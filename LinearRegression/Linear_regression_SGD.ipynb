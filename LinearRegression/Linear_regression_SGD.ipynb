{
 "cells": [
  {
   "cell_type": "markdown",
   "metadata": {
    "id": "us71UvyVaekL"
   },
   "source": [
    "IMPORTS"
   ]
  },
  {
   "cell_type": "code",
   "execution_count": 17,
   "metadata": {
    "executionInfo": {
     "elapsed": 1554,
     "status": "ok",
     "timestamp": 1603899981927,
     "user": {
      "displayName": "VARUN NARAYANAN",
      "photoUrl": "",
      "userId": "08661799234377739057"
     },
     "user_tz": -330
    },
    "id": "zIaiKhobacXM"
   },
   "outputs": [],
   "source": [
    "import numpy as np\n",
    "import pandas as pd\n",
    "import matplotlib.pyplot as plt\n",
    "import random"
   ]
  },
  {
   "cell_type": "markdown",
   "metadata": {
    "id": "v7IxLT2_2kjv"
   },
   "source": [
    "DATASET READING"
   ]
  },
  {
   "cell_type": "code",
   "execution_count": 18,
   "metadata": {
    "executionInfo": {
     "elapsed": 2063,
     "status": "ok",
     "timestamp": 1603899982451,
     "user": {
      "displayName": "VARUN NARAYANAN",
      "photoUrl": "",
      "userId": "08661799234377739057"
     },
     "user_tz": -330
    },
    "id": "joF9kBnhtB1O"
   },
   "outputs": [],
   "source": [
    "df = pd.read_csv(\"insurance.txt\",sep = \",\")\n",
    "df.insert(0,'0th_feature',1)"
   ]
  },
  {
   "cell_type": "markdown",
   "metadata": {
    "id": "SyZ1AXCu2nHX"
   },
   "source": [
    "DATA VISUALIZATION"
   ]
  },
  {
   "cell_type": "code",
   "execution_count": 19,
   "metadata": {
    "colab": {
     "base_uri": "https://localhost:8080/",
     "height": 587
    },
    "executionInfo": {
     "elapsed": 2342,
     "status": "ok",
     "timestamp": 1603899982994,
     "user": {
      "displayName": "VARUN NARAYANAN",
      "photoUrl": "",
      "userId": "08661799234377739057"
     },
     "user_tz": -330
    },
    "id": "lCLJ3WvNtDVS",
    "outputId": "2deed741-f81c-46ba-d4bc-fc1dfe933a0a"
   },
   "outputs": [
    {
     "data": {
      "image/png": "[encoded data removed]",
      "text/plain": [
       "<Figure size 432x288 with 1 Axes>"
      ]
     },
     "metadata": {
      "needs_background": "light"
     },
     "output_type": "display_data"
    },
    {
     "data": {
      "image/png": "[encoded data removed]",
      "text/plain": [
       "<Figure size 432x288 with 1 Axes>"
      ]
     },
     "metadata": {
      "needs_background": "light"
     },
     "output_type": "display_data"
    }
   ],
   "source": [
    "colormap = ['red','blue','orange','yellow','green','purple','pink','black','brown','gold']\n",
    "plot1 = plt.figure(1)\n",
    "df['children'].value_counts().sort_index().plot.bar(color = colormap)\n",
    "plt.title('NUMBER OF CHILDREN VISUALIZATION',fontsize = 18,color = 'magenta')\n",
    "plt.xlabel('NUMBER OF CHILDREN',color = 'green',fontsize = 12)\n",
    "plt.ylabel('FREQUENCY',color = 'orange',fontsize = 12)\n",
    "plot2 = plt.figure(2)\n",
    "df['age'].value_counts()[:10].sort_index().plot.bar(color = colormap)\n",
    "plt.title('TOP 10 AGE GROUPS VISUALIZATION',fontsize = 18,color = 'magenta')\n",
    "plt.xlabel('AGE',color = 'green',fontsize = 12)\n",
    "plt.ylabel('FREQUENCY',color = 'orange',fontsize = 12)\n",
    "plt.show()"
   ]
  },
  {
   "cell_type": "markdown",
   "metadata": {
    "id": "bZd05nHM2rv0"
   },
   "source": [
    "DATA PREPROCESSING"
   ]
  },
  {
   "cell_type": "code",
   "execution_count": 20,
   "metadata": {
    "executionInfo": {
     "elapsed": 2332,
     "status": "ok",
     "timestamp": 1603899982996,
     "user": {
      "displayName": "VARUN NARAYANAN",
      "photoUrl": "",
      "userId": "08661799234377739057"
     },
     "user_tz": -330
    },
    "id": "MyypVRabtE9o"
   },
   "outputs": [],
   "source": [
    "def standardize(x,u,sigma):\n",
    "  return (x-u)/sigma"
   ]
  },
  {
   "cell_type": "code",
   "execution_count": 21,
   "metadata": {
    "executionInfo": {
     "elapsed": 2314,
     "status": "ok",
     "timestamp": 1603899982997,
     "user": {
      "displayName": "VARUN NARAYANAN",
      "photoUrl": "",
      "userId": "08661799234377739057"
     },
     "user_tz": -330
    },
    "id": "Dmk0xu8RtG93"
   },
   "outputs": [],
   "source": [
    "def preprocessing(df):\n",
    "  mean_age = df.mean()['age']\n",
    "  age_variance =df.std()['age']\n",
    "  mean_bmi = df.mean()['bmi']\n",
    "  bmi_variance = df.std()['bmi']\n",
    "  mean_children = df.mean()['children']\n",
    "  children_variance = df.std()['children']\n",
    "  mean_charges = df.mean()['charges']\n",
    "  charges_variance = df.std()['charges']  \n",
    "  df['age'] = df['age'].apply(lambda x : standardize(x,mean_age,age_variance)) \n",
    "  df['bmi'] = df['bmi'].apply(lambda x : standardize(x,mean_bmi,bmi_variance)) \n",
    "  df['children'] = df['children'].apply(lambda x : standardize(x,mean_children,children_variance)) \n",
    "  df['charges']  = df['charges'].apply(lambda x : standardize(x,mean_charges,charges_variance)) \n",
    "  return df    \n"
   ]
  },
  {
   "cell_type": "markdown",
   "metadata": {
    "id": "zQl5fRvU2uoy"
   },
   "source": [
    "FUNCTIONS"
   ]
  },
  {
   "cell_type": "code",
   "execution_count": 22,
   "metadata": {
    "executionInfo": {
     "elapsed": 2303,
     "status": "ok",
     "timestamp": 1603899982998,
     "user": {
      "displayName": "VARUN NARAYANAN",
      "photoUrl": "",
      "userId": "08661799234377739057"
     },
     "user_tz": -330
    },
    "id": "eXIbTRDMtIk9"
   },
   "outputs": [],
   "source": [
    "def error_value(w,X,y):\n",
    "  return (np.sum((np.dot(X,w) - y)**2))/2"
   ]
  },
  {
   "cell_type": "code",
   "execution_count": 23,
   "metadata": {
    "executionInfo": {
     "elapsed": 2289,
     "status": "ok",
     "timestamp": 1603899982999,
     "user": {
      "displayName": "VARUN NARAYANAN",
      "photoUrl": "",
      "userId": "08661799234377739057"
     },
     "user_tz": -330
    },
    "id": "tynOaoMytKbo"
   },
   "outputs": [],
   "source": [
    "def stochastic_gradient_descent(w,X,y,alpha,printError):\n",
    "  error = []\n",
    "  for i in range(10):\n",
    "    for j in range(len(X)):\n",
    "      if printError == True:\n",
    "        if j%500 == 0:\n",
    "          print(error_value(w,X,y))\n",
    "      item = X[j]\n",
    "      output = y[j]\n",
    "      if j%50 == 0:\n",
    "        error.append(error_value(w,X,y))\n",
    "      A = (item.transpose()).reshape(4,1)\n",
    "      B = (item.dot(w) - output).reshape(1,1)\n",
    "      dw = np.dot(A,B)\n",
    "      w = w - alpha*dw\n",
    "  return w,error "
   ]
  },
  {
   "cell_type": "code",
   "execution_count": 24,
   "metadata": {
    "executionInfo": {
     "elapsed": 2271,
     "status": "ok",
     "timestamp": 1603899983000,
     "user": {
      "displayName": "VARUN NARAYANAN",
      "photoUrl": "",
      "userId": "08661799234377739057"
     },
     "user_tz": -330
    },
    "id": "RoiUD2kJtL5o"
   },
   "outputs": [],
   "source": [
    "def predict(parameters,X_test):\n",
    "  return np.dot(X_test,parameters)"
   ]
  },
  {
   "cell_type": "code",
   "execution_count": 25,
   "metadata": {
    "executionInfo": {
     "elapsed": 2247,
     "status": "ok",
     "timestamp": 1603899983001,
     "user": {
      "displayName": "VARUN NARAYANAN",
      "photoUrl": "",
      "userId": "08661799234377739057"
     },
     "user_tz": -330
    },
    "id": "OI56997stNQx"
   },
   "outputs": [],
   "source": [
    "def RMSE(y_true,y_pred):\n",
    "  return np.sqrt(((y_true - y_pred) ** 2).mean())"
   ]
  },
  {
   "cell_type": "markdown",
   "metadata": {
    "id": "Hyb1YQuKa7YD"
   },
   "source": [
    "TRAINING AND TESTING PHASES"
   ]
  },
  {
   "cell_type": "code",
   "execution_count": 26,
   "metadata": {
    "colab": {
     "base_uri": "https://localhost:8080/",
     "height": 1000
    },
    "executionInfo": {
     "elapsed": 4357,
     "status": "ok",
     "timestamp": 1603899985173,
     "user": {
      "displayName": "VARUN NARAYANAN",
      "photoUrl": "",
      "userId": "08661799234377739057"
     },
     "user_tz": -330
    },
    "id": "KKKmOcuVtOiW",
    "outputId": "973050e1-7174-49ee-8948-20a8a6ed199e"
   },
   "outputs": [
    {
     "name": "stdout",
     "output_type": "stream",
     "text": [
      "Error values for model 1 every 500 iterations are :\n",
      "819.2706784950423\n",
      "559.1726998287197\n",
      "469.64135666085394\n",
      "426.705964213401\n",
      "411.9769541587392\n",
      "404.72964418242327\n",
      "402.2340238059936\n",
      "400.9826145153322\n",
      "400.5339297737339\n",
      "400.3162049714883\n",
      "400.222036699957\n",
      "400.18821997506564\n",
      "400.15991197856556\n",
      "400.1599844030583\n",
      "400.14589043033016\n",
      "400.1523458885776\n",
      "400.1421942769434\n",
      "400.14979119370275\n",
      "400.14106653223007\n",
      "400.14879719701776\n",
      "\n",
      "\n",
      "Error values for model 2 every 500 iterations are :\n",
      "920.5851503103995\n",
      "594.2481949323133\n",
      "479.3468229787628\n",
      "432.4780632062061\n",
      "416.27098422603194\n",
      "409.2287672585615\n",
      "407.05853776542074\n",
      "405.86695458442296\n",
      "405.66059573398996\n",
      "405.38882465380664\n",
      "405.42947137893685\n",
      "405.3273184099133\n",
      "405.3835068881387\n",
      "405.32294152643374\n",
      "405.3713197633175\n",
      "405.32457287408596\n",
      "405.36709147078824\n",
      "405.3258628535387\n",
      "405.3653857445899\n",
      "405.32652191591944\n",
      "\n",
      "\n",
      "Error values for model 3 every 500 iterations are :\n",
      "1405.4257890836304\n",
      "778.4686978207342\n",
      "560.8964975356937\n",
      "475.28190317811027\n",
      "441.179259647197\n",
      "430.6258859806716\n",
      "424.60795268842446\n",
      "423.78157777089984\n",
      "422.51578991856593\n",
      "422.6502042489867\n",
      "422.33962638582113\n",
      "422.4359256191588\n",
      "422.3647395833216\n",
      "422.38632562315934\n",
      "422.3880179289079\n",
      "422.3721004512445\n",
      "422.3988714295331\n",
      "422.3673060026102\n",
      "422.4032628633771\n",
      "422.3655321945879\n",
      "\n",
      "\n",
      "Error values for model 4 every 500 iterations are :\n",
      "599.1397469388423\n",
      "470.6659167004249\n",
      "420.6850369561389\n",
      "400.8683381120572\n",
      "392.7788467984734\n",
      "389.7907489836844\n",
      "388.4334828974903\n",
      "388.01231531592254\n",
      "387.7789911921134\n",
      "387.72082916797615\n",
      "387.69313086700447\n",
      "387.67056282254316\n",
      "387.6885204426517\n",
      "387.66069947014535\n",
      "387.6921358238418\n",
      "387.65820166597643\n",
      "387.6947553252792\n",
      "387.65733996132565\n",
      "387.69612033389376\n",
      "387.6569731864459\n",
      "\n",
      "\n",
      "Error values for model 5 every 500 iterations are :\n",
      "557.7790987431243\n",
      "467.4075406382847\n",
      "434.1176042617758\n",
      "421.6204609697111\n",
      "415.9812209432517\n",
      "414.45938192302333\n",
      "413.3757858742492\n",
      "413.26858612756257\n",
      "413.02277121028345\n",
      "413.04621552017016\n",
      "412.983101647545\n",
      "412.99668980842455\n",
      "412.9819272598899\n",
      "412.9832988891768\n",
      "412.9834816505296\n",
      "412.97908940849743\n",
      "412.98434358362624\n",
      "412.9776438306916\n",
      "412.9847015904892\n",
      "412.97712511074474\n",
      "\n",
      "\n",
      "Error values for model 6 every 500 iterations are :\n",
      "1140.7046235653484\n",
      "693.9498911369951\n",
      "515.7550257991969\n",
      "458.97463590449684\n",
      "433.628043957684\n",
      "426.6885629353036\n",
      "422.701825506237\n",
      "421.97802977987755\n",
      "421.2549300548327\n",
      "421.2127189917443\n",
      "421.0732875794879\n",
      "421.0638784354089\n",
      "421.0550729168716\n",
      "421.0273100599001\n",
      "421.0551303241806\n",
      "421.0162174401876\n",
      "421.05605879242296\n",
      "421.01236775468243\n",
      "421.05650451138644\n",
      "421.0109366170766\n",
      "\n",
      "\n",
      "Error values for model 7 every 500 iterations are :\n",
      "868.8487862070433\n",
      "567.9201507688414\n",
      "479.7377534932855\n",
      "443.4719502089719\n",
      "432.58951501214665\n",
      "428.2908811462096\n",
      "426.92509226114976\n",
      "426.428758412785\n",
      "426.2750110520699\n",
      "426.19886313149357\n",
      "426.21367090474405\n",
      "426.16969140516517\n",
      "426.2133279926675\n",
      "426.1654106751395\n",
      "426.21594102910825\n",
      "426.16443314882576\n",
      "426.21720043831186\n",
      "426.1640552802135\n",
      "426.2176726941901\n",
      "426.163873936777\n",
      "\n",
      "\n",
      "Error values for model 8 every 500 iterations are :\n",
      "1059.85049289104\n",
      "678.6331082704608\n",
      "514.3724280658353\n",
      "464.67666744727967\n",
      "438.34798719369667\n",
      "432.9382581079202\n",
      "428.14489633248354\n",
      "428.0116865085613\n",
      "426.9758422651001\n",
      "427.18702079746265\n",
      "426.93108797475384\n",
      "427.03096011945615\n",
      "426.97422630107644\n",
      "426.9959857277787\n",
      "426.99997105119706\n",
      "426.9866207998406\n",
      "427.0113096428738\n",
      "426.9837368921925\n",
      "427.01591697034314\n",
      "426.9827675956574\n",
      "\n",
      "\n",
      "Error values for model 9 every 500 iterations are :\n",
      "1013.9829617093754\n",
      "673.8406380255134\n",
      "508.65481385446867\n",
      "461.41475091513325\n",
      "431.9477061300881\n",
      "426.6969568648866\n",
      "420.4642394485985\n",
      "420.5618227633711\n",
      "418.980359500025\n",
      "419.33844336277537\n",
      "418.92376493367715\n",
      "419.04534101832735\n",
      "419.0020182036923\n",
      "418.95766640285774\n",
      "419.05481140764005\n",
      "418.9259602584269\n",
      "419.0814013174751\n",
      "418.91307561411327\n",
      "419.0937434399983\n",
      "418.90753277881726\n",
      "\n",
      "\n",
      "Error values for model 10 every 500 iterations are :\n",
      "817.1274392622288\n",
      "552.8563390771722\n",
      "469.15156142889975\n",
      "430.8099245129263\n",
      "418.46640488188405\n",
      "412.7719643156882\n",
      "410.8129546117983\n",
      "409.9581741006425\n",
      "409.57114026259353\n",
      "409.46708507780704\n",
      "409.3402840296625\n",
      "409.3626074547353\n",
      "409.28757893821626\n",
      "409.33413487053554\n",
      "409.2726300082155\n",
      "409.324638341131\n",
      "409.2676733323808\n",
      "409.3210882959804\n",
      "409.265886983365\n",
      "409.3196911659426\n",
      "\n",
      "\n",
      "Error values for model 11 every 500 iterations are :\n",
      "568.2301223065851\n",
      "479.3108228240742\n",
      "440.8537637800839\n",
      "427.8711696535523\n",
      "419.4689030513424\n",
      "418.22014175023094\n",
      "415.94212691317614\n",
      "416.21108035746533\n",
      "415.4080861013125\n",
      "415.72095981213346\n",
      "415.3518196767063\n",
      "415.576039492639\n",
      "415.35871736740864\n",
      "415.52523672057134\n",
      "415.3673532697168\n",
      "415.5053157135161\n",
      "415.3721253491094\n",
      "415.4970220758976\n",
      "415.374384234677\n",
      "415.4934691459903\n",
      "\n",
      "\n",
      "Error values for model 12 every 500 iterations are :\n",
      "1094.7246513970647\n",
      "656.1905678520932\n",
      "519.5760123441324\n",
      "459.50677533288837\n",
      "440.4954951124203\n",
      "432.35444901306323\n",
      "429.6563827326463\n",
      "428.6316893694054\n",
      "428.2273926054732\n",
      "428.1466339315814\n",
      "428.0684437334689\n",
      "428.096062100562\n",
      "428.0643829018338\n",
      "428.09668279894754\n",
      "428.0714867654892\n",
      "428.10003442095683\n",
      "428.0756329422601\n",
      "428.10185976790245\n",
      "428.07749200435444\n",
      "428.10267508146825\n",
      "\n",
      "\n",
      "Error values for model 13 every 500 iterations are :\n",
      "841.2724638236505\n",
      "543.7584496053739\n",
      "461.07623973016257\n",
      "423.13862263082535\n",
      "414.61079460073034\n",
      "409.084713979574\n",
      "408.62089057742526\n",
      "407.57263967532174\n",
      "407.7590329872886\n",
      "407.4706991741845\n",
      "407.606810499402\n",
      "407.49293352315055\n",
      "407.5711396034344\n",
      "407.51004161260664\n",
      "407.5603786624568\n",
      "407.5180676268955\n",
      "407.5566014375116\n",
      "407.52149981516664\n",
      "407.5551765768756\n",
      "407.5229372915323\n",
      "\n",
      "\n",
      "Error values for model 14 every 500 iterations are :\n",
      "797.9019268292327\n",
      "551.8433104718282\n",
      "464.38980131409653\n",
      "427.7719941475981\n",
      "414.731924825724\n",
      "409.1826901858167\n",
      "407.1722440777357\n",
      "406.3693047903852\n",
      "406.0067304002216\n",
      "405.95421493832436\n",
      "405.8284030756937\n",
      "405.9010676985292\n",
      "405.80256284720343\n",
      "405.89844890287554\n",
      "405.7994804252818\n",
      "405.9006234461939\n",
      "405.7993876280493\n",
      "405.902083060717\n",
      "405.7995169763658\n",
      "405.9027827506968\n",
      "\n",
      "\n",
      "Error values for model 15 every 500 iterations are :\n",
      "623.9469341465219\n",
      "498.1041119951488\n",
      "449.49279060388517\n",
      "431.8607866916704\n",
      "424.358220960146\n",
      "422.0448706024023\n",
      "421.0620654416142\n",
      "420.6517913249261\n",
      "420.7644018498456\n",
      "420.4810861952544\n",
      "420.7979689149188\n",
      "420.4720935487058\n",
      "420.8335446081704\n",
      "420.47765569640745\n",
      "420.8507279723082\n",
      "420.4813109183507\n",
      "420.8578938555829\n",
      "420.4830002600968\n",
      "420.86074675307015\n",
      "420.48371303416997\n",
      "\n",
      "\n",
      "Error values for model 16 every 500 iterations are :\n",
      "750.5375278706856\n",
      "555.0027064523829\n",
      "473.5822355498348\n",
      "445.31504687073925\n",
      "431.3898635940106\n",
      "427.6320864637191\n",
      "425.1450701502455\n",
      "424.6583950075195\n",
      "424.3224700792789\n",
      "424.1199609774583\n",
      "424.26213616635096\n",
      "424.0094881852654\n",
      "424.28203127403674\n",
      "423.9824468707029\n",
      "424.2974254521224\n",
      "423.97447205311494\n",
      "424.3049042797522\n",
      "423.9717576819527\n",
      "424.308152957068\n",
      "423.9707510882786\n",
      "\n",
      "\n",
      "Error values for model 17 every 500 iterations are :\n",
      "1068.917188878201\n",
      "630.586391761165\n",
      "505.113497174445\n",
      "444.3830059219484\n",
      "430.40450439902287\n",
      "420.90847851807837\n",
      "420.0085081563952\n",
      "418.23091667837497\n",
      "418.43588565413546\n",
      "418.0720830621655\n",
      "418.1567316119595\n",
      "418.1364020896961\n",
      "418.0925896269108\n",
      "418.180528518812\n",
      "418.07318534004014\n",
      "418.2008629772797\n",
      "418.06615020963625\n",
      "418.2093778613961\n",
      "418.06338498259987\n",
      "418.21282878222905\n",
      "\n",
      "\n",
      "Error values for model 18 every 500 iterations are :\n",
      "1055.2140562305408\n",
      "608.0454244619148\n",
      "486.4247507042064\n",
      "427.37981796894985\n",
      "410.994113891554\n",
      "403.20109470726896\n",
      "400.94362809670554\n",
      "399.95899091615945\n",
      "399.6434023097539\n",
      "399.53268582561316\n",
      "399.5032835828523\n",
      "399.4804812106301\n",
      "399.50360266426856\n",
      "399.4752577965727\n",
      "399.5131609091827\n",
      "399.4749739547534\n",
      "399.5189446443617\n",
      "399.474938554696\n",
      "399.521798723169\n",
      "399.47485899835806\n",
      "\n",
      "\n",
      "Error values for model 19 every 500 iterations are :\n",
      "774.0861843181771\n",
      "550.8773371748041\n",
      "468.39619280744785\n",
      "441.97256190754223\n",
      "428.354515850111\n",
      "426.1065474037914\n",
      "423.19670187074496\n",
      "423.497709592285\n",
      "422.57227335984675\n",
      "422.97289845011096\n",
      "422.5122885466562\n",
      "422.8390735474113\n",
      "422.51266355730434\n",
      "422.7979948462814\n",
      "422.51564919020734\n",
      "422.784010092358\n",
      "422.51705691340413\n",
      "422.77901907655166\n",
      "422.5175870017597\n",
      "422.7772026215948\n",
      "\n",
      "\n",
      "Error values for model 20 every 500 iterations are :\n",
      "1024.3842515797005\n",
      "622.2867750298733\n",
      "478.1670618790655\n",
      "421.32470951754607\n",
      "400.668189271848\n",
      "392.3990119909522\n",
      "389.43671799788115\n",
      "388.18897168202955\n",
      "387.7857942078223\n",
      "387.5898490188248\n",
      "387.54443637427556\n",
      "387.5156159669551\n",
      "387.511402496766\n",
      "387.51217240361444\n",
      "387.5081734955263\n",
      "387.5151694938563\n",
      "387.50855796388026\n",
      "387.5171409850982\n",
      "387.50903373838526\n",
      "387.5180741971708\n",
      "\n",
      "\n"
     ]
    }
   ],
   "source": [
    "train_errors = []\n",
    "train_sum_of_squares = []\n",
    "test_sum_of_squares = []\n",
    "errors = []\n",
    "weights_list = []\n",
    "for k in range(20):\n",
    "  #TRAINING PHASE\n",
    "  df = df.sample(frac=1, random_state=k*100)\n",
    "  df = df.reset_index(drop = True)\n",
    "  df = preprocessing(df)\n",
    "  train_size = int(0.7*len(df))\n",
    "  X_train = np.array(df.drop(['charges'], axis = 1)[:train_size])\n",
    "  X_test = np.array(df.drop(['charges'], axis = 1)[train_size:])\n",
    "  y_train = np.array(df['charges'][:train_size]).reshape(int(0.7*len(df)),1)\n",
    "  y_test = np.array(df['charges'][train_size:]).reshape(len(df) - train_size,1 )\n",
    "  w = np.random.rand(4,1)\n",
    "  print(\"Error values for model {} every 500 iterations are :\".format(k+1))\n",
    "  weights,error = stochastic_gradient_descent(w,X_train,y_train,0.001,printError = True)\n",
    "  print(\"\\n\")\n",
    "\n",
    "  weights_list.append(weights)\n",
    "  y_train_pred = predict(weights,X_train)\n",
    "\n",
    "  train_sum_of_square_error = error_value(weights,X_train,y_train)\n",
    "  train_sum_of_squares.append(train_sum_of_square_error)\n",
    "\n",
    "  train_error = RMSE(y_train,y_train_pred)\n",
    "  train_errors.append(train_error)\n",
    "\n",
    "  #TESTING PHASE\n",
    "  \n",
    "  y_pred = predict(weights,X_test)\n",
    "\n",
    "  test_sum_of_square_error = error_value(weights,X_test,y_test)\n",
    "  test_sum_of_squares.append(test_sum_of_square_error)\n",
    "\n",
    "  error = RMSE(y_test,y_pred)\n",
    "  errors.append(error)"
   ]
  },
  {
   "cell_type": "markdown",
   "metadata": {
    "id": "O8jA4Nks20g7"
   },
   "source": [
    "TRAINING VISUALIZATION"
   ]
  },
  {
   "cell_type": "code",
   "execution_count": 27,
   "metadata": {
    "executionInfo": {
     "elapsed": 4346,
     "status": "ok",
     "timestamp": 1603899985181,
     "user": {
      "displayName": "VARUN NARAYANAN",
      "photoUrl": "",
      "userId": "08661799234377739057"
     },
     "user_tz": -330
    },
    "id": "v_uBdjTbtQAR"
   },
   "outputs": [],
   "source": [
    "train_size = int(0.7*len(df))\n",
    "X_train = np.array(df.drop(['charges'], axis = 1)[:train_size])\n",
    "X_test = np.array(df.drop(['charges'], axis = 1)[train_size:])\n",
    "y_train = np.array(df['charges'][:train_size]).reshape(int(0.7*len(df)),1)\n",
    "y_test = np.array(df['charges'][train_size:])\n",
    "w = np.array([0,0,0,0]).reshape(4,1)\n",
    "weights1,error1 = stochastic_gradient_descent(w,X_train,y_train,0.001,printError = False)"
   ]
  },
  {
   "cell_type": "code",
   "execution_count": 28,
   "metadata": {
    "colab": {
     "base_uri": "https://localhost:8080/",
     "height": 872
    },
    "executionInfo": {
     "elapsed": 5454,
     "status": "ok",
     "timestamp": 1603899986323,
     "user": {
      "displayName": "VARUN NARAYANAN",
      "photoUrl": "",
      "userId": "08661799234377739057"
     },
     "user_tz": -330
    },
    "id": "jpAWRAWOtRit",
    "outputId": "7c5021a8-31a2-4814-aa9b-a19a9beebf6c"
   },
   "outputs": [
    {
     "data": {
      "text/plain": [
       "[<matplotlib.lines.Line2D at 0x1f4f27f92c8>]"
      ]
     },
     "execution_count": 28,
     "metadata": {},
     "output_type": "execute_result"
    },
    {
     "data": {
      "image/png": "[encoded data removed]",
      "text/plain": [
       "<Figure size 432x288 with 1 Axes>"
      ]
     },
     "metadata": {
      "needs_background": "light"
     },
     "output_type": "display_data"
    }
   ],
   "source": [
    "plot1 = plt.figure(1)\n",
    "plt.title('ERROR VS EPOCHS (LEARNING RATE = 0.001)',fontsize = 18,color = 'blue')\n",
    "plt.xlabel('EPOCHS',color = 'green',fontsize = 12)\n",
    "plt.ylabel('ERROR VALUE',color = 'purple',fontsize = 12)\n",
    "y = error1\n",
    "x = x=[i*50 for i in range(len(error1))]\n",
    "plt.plot(x,y)"
   ]
  },
  {
   "cell_type": "markdown",
   "metadata": {
    "id": "OSqpB50h297_"
   },
   "source": [
    "MODEL EVALUATION\n"
   ]
  },
  {
   "cell_type": "code",
   "execution_count": 29,
   "metadata": {
    "colab": {
     "base_uri": "https://localhost:8080/",
     "height": 105
    },
    "executionInfo": {
     "elapsed": 5369,
     "status": "ok",
     "timestamp": 1603899986326,
     "user": {
      "displayName": "VARUN NARAYANAN",
      "photoUrl": "",
      "userId": "08661799234377739057"
     },
     "user_tz": -330
    },
    "id": "6JnH93GqtVYF",
    "outputId": "29fc2257-734d-444a-f8a6-61c25d3d035f"
   },
   "outputs": [
    {
     "name": "stdout",
     "output_type": "stream",
     "text": [
      "For the training set, mean sum of square of errors = 413.04202031491195 and variance square of errors = 144.5712547534622\n",
      "For the test set, mean sum of square of errors = 176.31268681697523 and variance square of errors = 147.68584480578386\n",
      "For the training set, mean RMSE = 0.9393504729823151 and variance RMSE = 0.00018910838420858707\n",
      "For the test set, mean RMSE = 0.9360359902945474 and  variance RMSE = 0.0010141712264162988\n"
     ]
    }
   ],
   "source": [
    "errors = np.array(errors)\n",
    "print(\"For the training set, mean sum of square of errors = {} and variance square of errors = {}\".format(np.mean(train_sum_of_squares),np.var(train_sum_of_squares)))\n",
    "print(\"For the test set, mean sum of square of errors = {} and variance square of errors = {}\".format(np.mean(test_sum_of_squares),np.var(test_sum_of_squares)))\n",
    "print(\"For the training set, mean RMSE = {} and variance RMSE = {}\".format(np.mean(train_errors),np.var(train_errors)))\n",
    "print(\"For the test set, mean RMSE = {} and  variance RMSE = {}\".format(np.mean(errors),np.var(errors)))"
   ]
  },
  {
   "cell_type": "markdown",
   "metadata": {
    "id": "erIvgzQ_3E_p"
   },
   "source": [
    "WEIGHT MATRICES FOR THE 20 MODELS"
   ]
  },
  {
   "cell_type": "code",
   "execution_count": 30,
   "metadata": {
    "colab": {
     "base_uri": "https://localhost:8080/",
     "height": 1000
    },
    "executionInfo": {
     "elapsed": 5337,
     "status": "ok",
     "timestamp": 1603899986329,
     "user": {
      "displayName": "VARUN NARAYANAN",
      "photoUrl": "",
      "userId": "08661799234377739057"
     },
     "user_tz": -330
    },
    "id": "eJ2bZtyHtXQz",
    "outputId": "daf203c2-db49-4855-df6c-9d2cde30e310"
   },
   "outputs": [
    {
     "name": "stdout",
     "output_type": "stream",
     "text": [
      "Weights of model 1 are : [[-0.01919413]\n",
      " [ 0.28015178]\n",
      " [ 0.15646197]\n",
      " [ 0.06198921]]\n",
      "Weights of model 2 are : [[-0.00446937]\n",
      " [ 0.26301198]\n",
      " [ 0.15822758]\n",
      " [ 0.05594674]]\n",
      "Weights of model 3 are : [[0.00310988]\n",
      " [0.27742363]\n",
      " [0.19369504]\n",
      " [0.02856773]]\n",
      "Weights of model 4 are : [[-0.04415018]\n",
      " [ 0.30668271]\n",
      " [ 0.13011685]\n",
      " [ 0.06967909]]\n",
      "Weights of model 5 are : [[-0.01505421]\n",
      " [ 0.3179367 ]\n",
      " [ 0.13063664]\n",
      " [ 0.04107603]]\n",
      "Weights of model 6 are : [[0.02231834]\n",
      " [0.26572595]\n",
      " [0.180179  ]\n",
      " [0.05791232]]\n",
      "Weights of model 7 are : [[0.01993868]\n",
      " [0.29386227]\n",
      " [0.19841796]\n",
      " [0.06354201]]\n",
      "Weights of model 8 are : [[0.01964686]\n",
      " [0.27032368]\n",
      " [0.19496666]\n",
      " [0.01438324]]\n",
      "Weights of model 9 are : [[-0.03311744]\n",
      " [ 0.30067611]\n",
      " [ 0.14583926]\n",
      " [ 0.04114911]]\n",
      "Weights of model 10 are : [[0.01163073]\n",
      " [0.26452166]\n",
      " [0.1718819 ]\n",
      " [0.03601782]]\n",
      "Weights of model 11 are : [[0.00663988]\n",
      " [0.28418863]\n",
      " [0.17592762]\n",
      " [0.0453361 ]]\n",
      "Weights of model 12 are : [[0.02509243]\n",
      " [0.29429146]\n",
      " [0.2024688 ]\n",
      " [0.06621699]]\n",
      "Weights of model 13 are : [[0.02259003]\n",
      " [0.26005887]\n",
      " [0.15837467]\n",
      " [0.0216645 ]]\n",
      "Weights of model 14 are : [[-0.00965844]\n",
      " [ 0.28683285]\n",
      " [ 0.1852368 ]\n",
      " [ 0.0578678 ]]\n",
      "Weights of model 15 are : [[0.00802791]\n",
      " [0.26399699]\n",
      " [0.16985989]\n",
      " [0.05007143]]\n",
      "Weights of model 16 are : [[0.00784076]\n",
      " [0.29566798]\n",
      " [0.17854559]\n",
      " [0.08814575]]\n",
      "Weights of model 17 are : [[0.01595653]\n",
      " [0.25059652]\n",
      " [0.17309553]\n",
      " [0.04414464]]\n",
      "Weights of model 18 are : [[0.01018413]\n",
      " [0.29006015]\n",
      " [0.17945861]\n",
      " [0.05055557]]\n",
      "Weights of model 19 are : [[0.00284796]\n",
      " [0.22257294]\n",
      " [0.15035882]\n",
      " [0.03596085]]\n",
      "Weights of model 20 are : [[-0.01695494]\n",
      " [ 0.27992524]\n",
      " [ 0.11225191]\n",
      " [ 0.07435499]]\n"
     ]
    }
   ],
   "source": [
    "for index,i in enumerate(weights_list):\n",
    "  print(\"Weights of model {} are :\".format(index+1),i)"
   ]
  }
 ],
 "metadata": {
  "colab": {
   "authorship_tag": "ABX9TyMgqpl6SOgDSUME4h6pUW4f",
   "collapsed_sections": [],
   "name": "FODS_ASSIGNMENT_2_3.ipynb",
   "provenance": []
  },
  "kernelspec": {
   "display_name": "Python 3",
   "language": "python",
   "name": "python3"
  },
  "language_info": {
   "codemirror_mode": {
    "name": "ipython",
    "version": 3
   },
   "file_extension": ".py",
   "mimetype": "text/x-python",
   "name": "python",
   "nbconvert_exporter": "python",
   "pygments_lexer": "ipython3",
   "version": "3.7.6"
  }
 },
 "nbformat": 4,
 "nbformat_minor": 1
}
