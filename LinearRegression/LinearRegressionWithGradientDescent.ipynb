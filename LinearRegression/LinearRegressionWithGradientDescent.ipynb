{
 "cells": [
  {
   "cell_type": "markdown",
   "metadata": {
    "id": "oik_O8nJZOua"
   },
   "source": [
    "IMPORTS"
   ]
  },
  {
   "cell_type": "code",
   "execution_count": 44,
   "metadata": {
    "id": "Q1PBo95PZMsG"
   },
   "outputs": [],
   "source": [
    "import numpy as np\n",
    "import pandas as pd\n",
    "import matplotlib.pyplot as plt\n",
    "import random"
   ]
  },
  {
   "cell_type": "markdown",
   "metadata": {
    "id": "EMv5gav8ZFt5"
   },
   "source": []
  },
  {
   "cell_type": "markdown",
   "metadata": {
    "id": "fe7WtsMURP6G"
   },
   "source": [
    "DATASET READING\n"
   ]
  },
  {
   "cell_type": "code",
   "execution_count": 45,
   "metadata": {
    "id": "pgoOV3v8RJim"
   },
   "outputs": [],
   "source": [
    "df = pd.read_csv(\"insurance.txt\",sep = \",\")\n",
    "df.insert(0,'0th_feature',1)"
   ]
  },
  {
   "cell_type": "markdown",
   "metadata": {
    "id": "3b1sM9t0RT6q"
   },
   "source": [
    "DATA VISUALIZATION"
   ]
  },
  {
   "cell_type": "code",
   "execution_count": 46,
   "metadata": {
    "colab": {
     "base_uri": "https://localhost:8080/",
     "height": 587
    },
    "id": "0cTZlOYARNeA",
    "outputId": "9c780162-da21-4085-da96-1dc0a173ca22"
   },
   "outputs": [
    {
     "data": {
      "image/png": "[encoded data removed]",
      "text/plain": [
       "<Figure size 432x288 with 1 Axes>"
      ]
     },
     "metadata": {
      "needs_background": "light"
     },
     "output_type": "display_data"
    },
    {
     "data": {
      "image/png": "[encoded data removed]",
      "text/plain": [
       "<Figure size 432x288 with 1 Axes>"
      ]
     },
     "metadata": {
      "needs_background": "light"
     },
     "output_type": "display_data"
    }
   ],
   "source": [
    "colormap = ['red','blue','orange','yellow','green','purple','pink','black','brown','gold']\n",
    "plot1 = plt.figure(1)\n",
    "df['children'].value_counts().sort_index().plot.bar(color = colormap)\n",
    "plt.title('NUMBER OF CHILDREN VISUALIZATION',fontsize = 18,color = 'magenta')\n",
    "plt.xlabel('NUMBER OF CHILDREN',color = 'green',fontsize = 12)\n",
    "plt.ylabel('FREQUENCY',color = 'orange',fontsize = 12)\n",
    "plot2 = plt.figure(2)\n",
    "df['age'].value_counts()[:10].sort_index().plot.bar(color = colormap)\n",
    "plt.title('TOP 10 AGE GROUPS VISUALIZATION',fontsize = 18,color = 'magenta')\n",
    "plt.xlabel('AGE',color = 'green',fontsize = 12)\n",
    "plt.ylabel('FREQUENCY',color = 'orange',fontsize = 12)\n",
    "plt.show()"
   ]
  },
  {
   "cell_type": "markdown",
   "metadata": {
    "id": "32gwlMweReNh"
   },
   "source": [
    "PREPROCESSING"
   ]
  },
  {
   "cell_type": "code",
   "execution_count": 47,
   "metadata": {
    "id": "ZVa2A7vQRYQZ"
   },
   "outputs": [],
   "source": [
    "def standardize(x,u,sigma):\n",
    "  return (x-u)/sigma"
   ]
  },
  {
   "cell_type": "code",
   "execution_count": 48,
   "metadata": {
    "id": "CcA4RlnnRik4"
   },
   "outputs": [],
   "source": [
    "def preprocessing(df):\n",
    "  mean_age = df.mean()['age']\n",
    "  age_variance =df.std()['age']\n",
    "  mean_bmi = df.mean()['bmi']\n",
    "  bmi_variance = df.std()['bmi']\n",
    "  mean_children = df.mean()['children']\n",
    "  children_variance = df.std()['children']\n",
    "  mean_charges = df.mean()['charges']\n",
    "  charges_variance = df.std()['charges']  \n",
    "  df['age'] = df['age'].apply(lambda x : standardize(x,mean_age,age_variance)) \n",
    "  df['bmi'] = df['bmi'].apply(lambda x : standardize(x,mean_bmi,bmi_variance)) \n",
    "  df['children'] = df['children'].apply(lambda x : standardize(x,mean_children,children_variance)) \n",
    "  df['charges']  = df['charges'].apply(lambda x : standardize(x,mean_charges,charges_variance)) \n",
    "  return df    "
   ]
  },
  {
   "cell_type": "markdown",
   "metadata": {
    "id": "fc95uvHNZdNr"
   },
   "source": [
    "FUNCTIONS"
   ]
  },
  {
   "cell_type": "code",
   "execution_count": 49,
   "metadata": {
    "id": "V38igyOqSSvx"
   },
   "outputs": [],
   "source": [
    "def error_value(w,X,y):\n",
    "  return (np.sum((np.dot(X,w) - y)**2))/(2)"
   ]
  },
  {
   "cell_type": "code",
   "execution_count": 50,
   "metadata": {
    "id": "LLaCjkcWSeE3"
   },
   "outputs": [],
   "source": [
    "def gradient_descent(w,X,y,alpha,printError):\n",
    "  error = []\n",
    "  for i in range(10000):\n",
    "    if printError == True:\n",
    "      if i%500 == 0:\n",
    "        print(error_value(w,X,y))\n",
    "    error.append(error_value(w,X,y))\n",
    "    A = X.transpose()\n",
    "    B = X.dot(w) - y\n",
    "    dw = A.dot(B)\n",
    "    w = w - (alpha*dw)/len(X)\n",
    "  return w,error "
   ]
  },
  {
   "cell_type": "code",
   "execution_count": 51,
   "metadata": {
    "id": "iCABBBw1SL3V"
   },
   "outputs": [],
   "source": [
    "def predict(parameters,X_test):\n",
    "  return np.dot(X_test,parameters)"
   ]
  },
  {
   "cell_type": "code",
   "execution_count": 52,
   "metadata": {
    "id": "VadtL7tESGpG"
   },
   "outputs": [],
   "source": [
    "def RMSE(y_true,y_pred):\n",
    "  return np.sqrt(((y_true - y_pred) ** 2).mean())"
   ]
  },
  {
   "cell_type": "markdown",
   "metadata": {
    "id": "F69v1wTZZf-x"
   },
   "source": [
    "TRAINING AND TESTING PHASES"
   ]
  },
  {
   "cell_type": "code",
   "execution_count": 53,
   "metadata": {
    "colab": {
     "base_uri": "https://localhost:8080/",
     "height": 1000
    },
    "id": "q1E_mZDDR6K0",
    "outputId": "99dfdd86-aa3f-4340-e400-f401c31bae53"
   },
   "outputs": [
    {
     "name": "stdout",
     "output_type": "stream",
     "text": [
      "Error values for model 1 every 500 iterations are :\n",
      "627.3926163264578\n",
      "483.1358795733496\n",
      "430.59571665452046\n",
      "411.33753230608175\n",
      "404.23432470236196\n",
      "401.59832603173356\n",
      "400.61427971521175\n",
      "400.24480247896145\n",
      "400.10530078567064\n",
      "400.0523459088387\n",
      "400.0321399017897\n",
      "400.024391438016\n",
      "400.0214058937265\n",
      "400.0202502697009\n",
      "400.01980099973156\n",
      "400.0196256080002\n",
      "400.0195568639021\n",
      "400.0195298180515\n",
      "400.01951913931373\n",
      "400.0195149086421\n",
      "\n",
      "\n",
      "Error values for model 2 every 500 iterations are :\n",
      "927.1838762921641\n",
      "578.9377954143274\n",
      "463.27637872994455\n",
      "424.72024855298673\n",
      "411.81540973178437\n",
      "407.47705928018144\n",
      "406.01159972175446\n",
      "405.5140139135326\n",
      "405.3441207930621\n",
      "405.285767707889\n",
      "405.2655983109682\n",
      "405.25858029645525\n",
      "405.2561212580904\n",
      "405.2552533662749\n",
      "405.25494475419\n",
      "405.25483417332066\n",
      "405.25479424217525\n",
      "405.2547797102279\n",
      "405.25477438053997\n",
      "405.2547724108316\n",
      "\n",
      "\n",
      "Error values for model 3 every 500 iterations are :\n",
      "1211.2961069997255\n",
      "692.0882992457281\n",
      "514.7292329607046\n",
      "454.0287317378955\n",
      "433.2111535479437\n",
      "426.0554861659389\n",
      "423.5897477666564\n",
      "422.73776882583513\n",
      "422.4424996202245\n",
      "422.33982750017174\n",
      "422.3039943222424\n",
      "422.291437334389\n",
      "422.2870171888549\n",
      "422.28545355552166\n",
      "422.28489741265287\n",
      "422.28469843616836\n",
      "422.2846267903401\n",
      "422.28460081534615\n",
      "422.28459132940185\n",
      "422.28458783859094\n",
      "\n",
      "\n",
      "Error values for model 4 every 500 iterations are :\n",
      "694.6675425864546\n",
      "501.0906354196102\n",
      "429.5666103458519\n",
      "403.13518734340596\n",
      "393.3661073761653\n",
      "389.7549456085048\n",
      "388.4198966031268\n",
      "387.92626566838254\n",
      "387.7437242791631\n",
      "387.6762133558609\n",
      "387.6512420482489\n",
      "387.64200432766825\n",
      "387.6385865220142\n",
      "387.63732180723036\n",
      "387.6368537432384\n",
      "387.63668048611623\n",
      "387.6366163419438\n",
      "387.6365925893035\n",
      "387.636583791689\n",
      "387.63658053236384\n",
      "\n",
      "\n",
      "Error values for model 5 every 500 iterations are :\n",
      "851.8497980189172\n",
      "570.361065439027\n",
      "469.43340356721717\n",
      "433.1745090174086\n",
      "420.1243348726799\n",
      "415.4193357543988\n",
      "413.7203463986891\n",
      "413.10593585413994\n",
      "412.883443308141\n",
      "412.80277256606036\n",
      "412.77348936389046\n",
      "412.7628483168165\n",
      "412.7589777193416\n",
      "412.75756853691104\n",
      "412.7570550577735\n",
      "412.756867809184\n",
      "412.75679947607904\n",
      "412.75677452208606\n",
      "412.75676540350366\n",
      "412.75676206941137\n",
      "\n",
      "\n",
      "Error values for model 6 every 500 iterations are :\n",
      "952.4636997115258\n",
      "614.596482309729\n",
      "491.96997926003735\n",
      "447.1653648717269\n",
      "430.69060115727416\n",
      "424.5962843550592\n",
      "422.329075773347\n",
      "421.4811160298714\n",
      "421.1623714285024\n",
      "421.0419860165615\n",
      "420.9963126559802\n",
      "420.97890978554824\n",
      "420.9722513140092\n",
      "420.9696935147824\n",
      "420.9687071138249\n",
      "420.96832525283116\n",
      "420.9681768636027\n",
      "420.96811898288433\n",
      "420.9680963210234\n",
      "420.9680874149304\n",
      "\n",
      "\n",
      "Error values for model 7 every 500 iterations are :\n",
      "720.8854129665469\n",
      "525.8281073710458\n",
      "460.04252271314783\n",
      "437.7351836426334\n",
      "430.127434280968\n",
      "427.5171576691724\n",
      "426.6158906294289\n",
      "426.3026680802077\n",
      "426.19308082617965\n",
      "426.1544772942969\n",
      "426.1407847672737\n",
      "426.13589445017305\n",
      "426.13413582327604\n",
      "426.13349908422083\n",
      "426.1332669964145\n",
      "426.1331818462632\n",
      "426.1331504056968\n",
      "426.1331387244273\n",
      "426.13313435822977\n",
      "426.1331327167052\n",
      "\n",
      "\n",
      "Error values for model 8 every 500 iterations are :\n",
      "739.803577848952\n",
      "535.9791548244384\n",
      "465.08742688769536\n",
      "440.293076106978\n",
      "431.5728133650269\n",
      "428.4889017715913\n",
      "427.39237103149935\n",
      "427.0004355921038\n",
      "426.8596391770417\n",
      "426.80881805346917\n",
      "426.7903911475677\n",
      "426.7836816886405\n",
      "426.7812291478356\n",
      "426.78032943462443\n",
      "426.7799982896489\n",
      "426.7798760450642\n",
      "426.77983079537694\n",
      "426.7798140050009\n",
      "426.7798077610897\n",
      "426.7798054345755\n",
      "\n",
      "\n",
      "Error values for model 9 every 500 iterations are :\n",
      "807.0855855270926\n",
      "556.7644295374957\n",
      "468.2629620303916\n",
      "436.65930562402457\n",
      "425.2590450507913\n",
      "421.10470283309763\n",
      "419.57543512096424\n",
      "419.00683246264185\n",
      "418.7933322217501\n",
      "418.71239562589585\n",
      "418.6814272862112\n",
      "418.6694718226311\n",
      "418.6648167921327\n",
      "418.6629895145712\n",
      "418.6622667116438\n",
      "418.6619787275947\n",
      "418.66186321081807\n",
      "418.6618165832486\n",
      "418.66179765304287\n",
      "418.66178992659724\n",
      "\n",
      "\n",
      "Error values for model 10 every 500 iterations are :\n",
      "609.7841299618087\n",
      "481.14157617897223\n",
      "435.0660623080534\n",
      "418.52469872102563\n",
      "412.5729580127412\n",
      "410.426887928488\n",
      "409.6514860231829\n",
      "409.37078143245446\n",
      "409.26897629462474\n",
      "409.2319894867561\n",
      "409.21852957092653\n",
      "409.21362365946925\n",
      "409.21183286879875\n",
      "409.2111782536191\n",
      "409.21093863839917\n",
      "409.2108508163891\n",
      "409.21081858869894\n",
      "409.21080674818336\n",
      "409.21080239297413\n",
      "409.2108007892552\n",
      "\n",
      "\n",
      "Error values for model 11 every 500 iterations are :\n",
      "780.5693923721085\n",
      "548.0933292729501\n",
      "463.7998772305394\n",
      "433.1024151386598\n",
      "421.87433203244296\n",
      "417.74945705945333\n",
      "416.2273982824039\n",
      "415.6632589797041\n",
      "415.4532204984339\n",
      "415.3746616073937\n",
      "415.3451424741223\n",
      "415.33399822092645\n",
      "415.3297709294083\n",
      "415.3281597002701\n",
      "415.32754260883536\n",
      "415.3273051199104\n",
      "415.3272132796535\n",
      "415.3271775933556\n",
      "415.3271636611716\n",
      "415.32715819674684\n",
      "\n",
      "\n",
      "Error values for model 12 every 500 iterations are :\n",
      "1067.9211827095673\n",
      "646.7885936517795\n",
      "503.1677476959038\n",
      "453.9751652931784\n",
      "437.0465880732156\n",
      "431.19149483069396\n",
      "429.15544336736264\n",
      "428.4433682058524\n",
      "428.1928303897887\n",
      "428.1041263999441\n",
      "428.072516156693\n",
      "428.06117657198\n",
      "428.05708117353015\n",
      "428.0555920044991\n",
      "428.0550468323577\n",
      "428.05484590786415\n",
      "428.05477136845144\n",
      "428.0547435382512\n",
      "428.0547330831159\n",
      "428.05472913202163\n",
      "\n",
      "\n",
      "Error values for model 13 every 500 iterations are :\n",
      "719.4473438808975\n",
      "517.3881399010771\n",
      "446.82532648879396\n",
      "421.78149706220415\n",
      "412.74196556822267\n",
      "409.4230098295088\n",
      "408.18380028583135\n",
      "407.7136294013105\n",
      "407.53255652268416\n",
      "407.4618685844676\n",
      "407.4339379942917\n",
      "407.4227849144378\n",
      "407.41829072283747\n",
      "407.4164657245479\n",
      "407.4157197862869\n",
      "407.41541322564035\n",
      "407.41528666074714\n",
      "407.4152342083661\n",
      "407.4152124012349\n",
      "407.41520331076225\n",
      "\n",
      "\n",
      "Error values for model 14 every 500 iterations are :\n",
      "991.3543855927342\n",
      "601.2121918727394\n",
      "471.3328838092275\n",
      "427.8959747756554\n",
      "413.29357339575427\n",
      "408.35621343643516\n",
      "406.6760997757806\n",
      "406.10035875873996\n",
      "405.90155414897026\n",
      "405.8323411203713\n",
      "405.8080337842758\n",
      "405.79941859336884\n",
      "405.7963360123997\n",
      "405.7952222915212\n",
      "405.7948159586675\n",
      "405.7946662653799\n",
      "405.79461059163054\n",
      "405.79458969449763\n",
      "405.79458178175616\n",
      "405.7945787607418\n",
      "\n",
      "\n",
      "Error values for model 15 every 500 iterations are :\n",
      "628.435294254464\n",
      "495.8744103546111\n",
      "447.8080199937159\n",
      "430.37239528125446\n",
      "424.0450254505403\n",
      "421.74770895212407\n",
      "420.91315359318\n",
      "420.6097967472008\n",
      "420.4994530684604\n",
      "420.45928600485433\n",
      "420.4446521366882\n",
      "420.4393156455093\n",
      "420.4373675729572\n",
      "420.4366556118898\n",
      "420.4363950790925\n",
      "420.436299605994\n",
      "420.43626456522566\n",
      "420.43625168256153\n",
      "420.43624693745073\n",
      "420.4362451861208\n",
      "\n",
      "\n",
      "Error values for model 16 every 500 iterations are :\n",
      "599.1800508538524\n",
      "486.2292034833301\n",
      "446.18207238304956\n",
      "431.9164369344659\n",
      "426.8107908420968\n",
      "424.97491627231864\n",
      "424.3117040866007\n",
      "424.0710150364535\n",
      "423.98326941500864\n",
      "423.95113830510843\n",
      "423.93932098372954\n",
      "423.93495618377887\n",
      "423.93333728952985\n",
      "423.93273440104645\n",
      "423.93250899028203\n",
      "423.9324243872482\n",
      "423.9323925140776\n",
      "423.93238046240924\n",
      "423.93237588935506\n",
      "423.9323741481192\n",
      "\n",
      "\n",
      "Error values for model 17 every 500 iterations are :\n",
      "1016.1521664736704\n",
      "614.3873456923726\n",
      "482.82163762515387\n",
      "439.48933660341487\n",
      "425.1327911054624\n",
      "420.34758074331745\n",
      "418.742932728725\n",
      "418.2015908757279\n",
      "418.0178805907966\n",
      "417.95517646312726\n",
      "417.93365521728145\n",
      "417.92622953639795\n",
      "417.92365453537843\n",
      "417.92275740458535\n",
      "417.9224434757978\n",
      "417.9223331791777\n",
      "417.92229428272447\n",
      "417.92228051884484\n",
      "417.92227563312406\n",
      "417.9222738938971\n",
      "\n",
      "\n",
      "Error values for model 18 every 500 iterations are :\n",
      "571.3652373827936\n",
      "465.1932596163972\n",
      "424.7349785014914\n",
      "409.2118960872094\n",
      "403.21550052500277\n",
      "400.88371710046556\n",
      "399.9710939984449\n",
      "399.6116780136407\n",
      "399.46928658126023\n",
      "399.41255658929265\n",
      "399.3898352589041\n",
      "399.3806901529672\n",
      "399.3769925915002\n",
      "399.3754913483366\n",
      "399.3748795114136\n",
      "399.37462929566124\n",
      "399.37452665000535\n",
      "399.37448442450085\n",
      "399.37446701090255\n",
      "399.37445981371513\n",
      "\n",
      "\n",
      "Error values for model 19 every 500 iterations are :\n",
      "1188.5832618718052\n",
      "701.8372020240317\n",
      "525.127123427626\n",
      "460.4803199898943\n",
      "436.64842854832756\n",
      "427.7961097404971\n",
      "424.4835102419834\n",
      "423.2350079593853\n",
      "422.76121622696826\n",
      "422.58024380994715\n",
      "422.51069352107055\n",
      "422.4838107778405\n",
      "422.47336454887864\n",
      "422.46928529066577\n",
      "422.467685115072\n",
      "422.4670548034489\n",
      "422.46680557946684\n",
      "422.4667066952246\n",
      "422.4666673371531\n",
      "422.4666516267403\n",
      "\n",
      "\n",
      "Error values for model 20 every 500 iterations are :\n",
      "1006.2739809088284\n",
      "592.0777041247075\n",
      "455.47120083178186\n",
      "410.17867034236906\n",
      "395.06810632952664\n",
      "389.99022427099567\n",
      "388.2695039522231\n",
      "387.680859857307\n",
      "387.47734973656543\n",
      "387.40617220742627\n",
      "387.3809675183126\n",
      "387.37192573984464\n",
      "387.36863885579453\n",
      "387.3674281008422\n",
      "387.36697633437376\n",
      "387.36680569532746\n",
      "387.3667405066603\n",
      "387.36671534434754\n",
      "387.3667055419098\n",
      "387.3667016921255\n",
      "\n",
      "\n"
     ]
    }
   ],
   "source": [
    "train_errors = []\n",
    "train_sum_of_squares = []\n",
    "test_sum_of_squares = []\n",
    "test_errors = []\n",
    "weights_list = []\n",
    "for k in range(20):\n",
    "  #TRAINING PHASE \n",
    "\n",
    "  df = df.sample(frac=1, random_state=k*100)\n",
    "  df = df.reset_index(drop = True)\n",
    "  df = preprocessing(df)\n",
    "  train_size = int(0.7*len(df))\n",
    "  X_train = np.array(df.drop(['charges'], axis = 1)[:train_size])\n",
    "  X_test = np.array(df.drop(['charges'], axis = 1)[train_size:])\n",
    "  y_train = np.array(df['charges'][:train_size]).reshape(int(0.7*len(df)),1)\n",
    "  y_test = np.array(df['charges'][train_size:]).reshape(len(df) - train_size,1 )\n",
    "  w = np.random.rand(4,1) \n",
    "  print(\"Error values for model {} every 500 iterations are :\".format(k+1))\n",
    "  weights,error = gradient_descent(w,X_train,y_train,0.001,printError = True)\n",
    "  print(\"\\n\")\n",
    "\n",
    "  weights_list.append(weights)\n",
    "  y_train_pred = predict(weights,X_train)\n",
    "\n",
    "  train_sum_of_square_error = error_value(weights,X_train,y_train)\n",
    "  train_sum_of_squares.append(train_sum_of_square_error)\n",
    "\n",
    "  train_error = RMSE(y_train,y_train_pred)\n",
    "  train_errors.append(train_error)\n",
    "\n",
    "  # TESTING PHASE\n",
    "  \n",
    "  y_pred = predict(weights,X_test)\n",
    "\n",
    "  test_sum_of_square_error = error_value(weights,X_test,y_test)\n",
    "  test_sum_of_squares.append(test_sum_of_square_error)\n",
    "\n",
    "  error = RMSE(y_test,y_pred)\n",
    "  test_errors.append(error)"
   ]
  },
  {
   "cell_type": "markdown",
   "metadata": {
    "id": "gyNevCZvC5ED"
   },
   "source": [
    "TRAINING VISUALIZATION FOR THREE DIFFERENT LEARNING RATES\n"
   ]
  },
  {
   "cell_type": "code",
   "execution_count": 54,
   "metadata": {
    "id": "UVFCrTyvC8JD"
   },
   "outputs": [],
   "source": [
    "train_size = int(0.7*len(df))\n",
    "X_train = np.array(df.drop(['charges'], axis = 1)[:train_size])\n",
    "X_test = np.array(df.drop(['charges'], axis = 1)[train_size:])\n",
    "y_train = np.array(df['charges'][:train_size]).reshape(int(0.7*len(df)),1)\n",
    "y_test = np.array(df['charges'][train_size:])\n",
    "w = np.array([0,0,0,0]).reshape(4,1)\n",
    "weights1,error1 = gradient_descent(w,X_train,y_train,0.001,printError = False)\n"
   ]
  },
  {
   "cell_type": "markdown",
   "metadata": {
    "id": "wUKQ6OHlKgoO"
   },
   "source": []
  },
  {
   "cell_type": "code",
   "execution_count": 55,
   "metadata": {
    "colab": {
     "base_uri": "https://localhost:8080/",
     "height": 909
    },
    "id": "gEh9reVrwHoh",
    "outputId": "ad8b8828-3d7e-4d52-c9b8-8c6f6e1e02b7"
   },
   "outputs": [
    {
     "data": {
      "text/plain": [
       "[<matplotlib.lines.Line2D at 0x22ccf728488>]"
      ]
     },
     "execution_count": 55,
     "metadata": {},
     "output_type": "execute_result"
    },
    {
     "data": {
      "image/png": "[encoded data removed]",
      "text/plain": [
       "<Figure size 432x288 with 1 Axes>"
      ]
     },
     "metadata": {
      "needs_background": "light"
     },
     "output_type": "display_data"
    }
   ],
   "source": [
    "plot1 = plt.figure(1)\n",
    "plt.title('ERROR VS EPOCHS (LR = 0.001)',fontsize = 18,color = 'blue')\n",
    "plt.xlabel('EPOCHS',color = 'green',fontsize = 12)\n",
    "plt.ylabel('ERROR VALUE',color = 'purple',fontsize = 12)\n",
    "x = x=[i for i in range(len(error1))]\n",
    "y=error1\n",
    "plt.plot(x,y)\n"
   ]
  },
  {
   "cell_type": "markdown",
   "metadata": {
    "id": "rUk4mrS22568"
   },
   "source": [
    "MODEL EVALUATION"
   ]
  },
  {
   "cell_type": "code",
   "execution_count": 56,
   "metadata": {
    "colab": {
     "base_uri": "https://localhost:8080/",
     "height": 105
    },
    "id": "n13vSY_URkpI",
    "outputId": "a677a8fd-929b-4130-de8e-3c799044f05b"
   },
   "outputs": [
    {
     "name": "stdout",
     "output_type": "stream",
     "text": [
      "For the training set, mean sum of square of errors = 412.8898086782019 and variance square of errors = 143.83108602662716\n",
      "For the test set, mean sum of square of errors = 176.21883094549622 and variance square of errors = 144.94412806575767\n",
      "For the training set, mean RMSE = 0.9391778196300498 and variance RMSE = 0.0001882040512743213\n",
      "For the test set, mean RMSE = 0.935795956666289 and  variance RMSE = 0.0009965292059117168\n"
     ]
    }
   ],
   "source": [
    "test_errors = np.array(test_errors)\n",
    "print(\"For the training set, mean sum of square of errors = {} and variance square of errors = {}\".format(np.mean(train_sum_of_squares),np.var(train_sum_of_squares)))\n",
    "print(\"For the test set, mean sum of square of errors = {} and variance square of errors = {}\".format(np.mean(test_sum_of_squares),np.var(test_sum_of_squares)))\n",
    "print(\"For the training set, mean RMSE = {} and variance RMSE = {}\".format(np.mean(train_errors),np.var(train_errors)))\n",
    "print(\"For the test set, mean RMSE = {} and  variance RMSE = {}\".format(np.mean(test_errors),np.var(test_errors)))"
   ]
  },
  {
   "cell_type": "markdown",
   "metadata": {
    "id": "hz73LAedR6qm"
   },
   "source": [
    "WEIGHT MATRICES OF THE 20 MODELS\n"
   ]
  },
  {
   "cell_type": "code",
   "execution_count": 57,
   "metadata": {
    "colab": {
     "base_uri": "https://localhost:8080/",
     "height": 1000
    },
    "id": "EHQkSyopSC1M",
    "outputId": "53147311-69e2-4cfc-8be1-777541636c31"
   },
   "outputs": [
    {
     "name": "stdout",
     "output_type": "stream",
     "text": [
      "Weights of model 1 are : [[-0.01546797]\n",
      " [ 0.28770465]\n",
      " [ 0.16786443]\n",
      " [ 0.05469173]]\n",
      "Weights of model 2 are : [[-0.01304863]\n",
      " [ 0.27363849]\n",
      " [ 0.16037355]\n",
      " [ 0.0620774 ]]\n",
      "Weights of model 3 are : [[0.01278753]\n",
      " [0.27787136]\n",
      " [0.19455739]\n",
      " [0.04085729]]\n",
      "Weights of model 4 are : [[-0.04398032]\n",
      " [ 0.29866083]\n",
      " [ 0.13851456]\n",
      " [ 0.06655583]]\n",
      "Weights of model 5 are : [[-0.01271582]\n",
      " [ 0.30956645]\n",
      " [ 0.14999989]\n",
      " [ 0.04867943]]\n",
      "Weights of model 6 are : [[0.01095304]\n",
      " [0.26930927]\n",
      " [0.1799522 ]\n",
      " [0.06428075]]\n",
      "Weights of model 7 are : [[0.03017936]\n",
      " [0.29059967]\n",
      " [0.20672131]\n",
      " [0.06658258]]\n",
      "Weights of model 8 are : [[0.01616063]\n",
      " [0.28911471]\n",
      " [0.18914531]\n",
      " [0.02548899]]\n",
      "Weights of model 9 are : [[-0.01165562]\n",
      " [ 0.28573586]\n",
      " [ 0.16291292]\n",
      " [ 0.03639381]]\n",
      "Weights of model 10 are : [[0.00223021]\n",
      " [0.2606153 ]\n",
      " [0.17243039]\n",
      " [0.03274282]]\n",
      "Weights of model 11 are : [[0.00292632]\n",
      " [0.28265979]\n",
      " [0.18079758]\n",
      " [0.05353281]]\n",
      "Weights of model 12 are : [[0.03097152]\n",
      " [0.29494361]\n",
      " [0.19911839]\n",
      " [0.0684928 ]]\n",
      "Weights of model 13 are : [[0.00630608]\n",
      " [0.25645223]\n",
      " [0.15420854]\n",
      " [0.02033319]]\n",
      "Weights of model 14 are : [[-0.00988829]\n",
      " [ 0.28866903]\n",
      " [ 0.18545634]\n",
      " [ 0.0604891 ]]\n",
      "Weights of model 15 are : [[0.01979168]\n",
      " [0.27135322]\n",
      " [0.19547695]\n",
      " [0.04633886]]\n",
      "Weights of model 16 are : [[0.01792738]\n",
      " [0.28446849]\n",
      " [0.18894516]\n",
      " [0.06681853]]\n",
      "Weights of model 17 are : [[0.0058473 ]\n",
      " [0.25952117]\n",
      " [0.1734973 ]\n",
      " [0.05463436]]\n",
      "Weights of model 18 are : [[0.00265483]\n",
      " [0.30130596]\n",
      " [0.16623367]\n",
      " [0.05249281]]\n",
      "Weights of model 19 are : [[0.0013908 ]\n",
      " [0.22914337]\n",
      " [0.15468291]\n",
      " [0.04198981]]\n",
      "Weights of model 20 are : [[-0.02614157]\n",
      " [ 0.28011891]\n",
      " [ 0.12670502]\n",
      " [ 0.0714333 ]]\n"
     ]
    }
   ],
   "source": [
    "for index,i in enumerate(weights_list):\n",
    "  print(\"Weights of model {} are :\".format(index+1),i)"
   ]
  }
 ],
 "metadata": {
  "colab": {
   "name": "FODS_ASSIGNMENT_2_2.ipynb",
   "provenance": []
  },
  "kernelspec": {
   "display_name": "Python 3",
   "language": "python",
   "name": "python3"
  },
  "language_info": {
   "codemirror_mode": {
    "name": "ipython",
    "version": 3
   },
   "file_extension": ".py",
   "mimetype": "text/x-python",
   "name": "python",
   "nbconvert_exporter": "python",
   "pygments_lexer": "ipython3",
   "version": "3.7.6"
  }
 },
 "nbformat": 4,
 "nbformat_minor": 1
}
