{
  "nbformat": 4,
  "nbformat_minor": 0,
  "metadata": {
    "colab": {
      "name": "Linear_regression_normal_equations",
      "provenance": []
    },
    "kernelspec": {
      "name": "python3",
      "display_name": "Python 3"
    }
  },
  "cells": [
    {
      "cell_type": "code",
      "metadata": {
        "id": "JyxYlThaUtjI"
      },
      "source": [
        "import numpy as np\n",
        "import pandas as pd\n",
        "import matplotlib.pyplot as plt\n",
        "import random\n",
        "from numpy.linalg import inv"
      ],
      "execution_count": null,
      "outputs": []
    },
    {
      "cell_type": "markdown",
      "metadata": {
        "id": "EdD_lPGzKEwO"
      },
      "source": [
        "DATASET READING\n"
      ]
    },
    {
      "cell_type": "code",
      "metadata": {
        "id": "1wn9-lr-WGIP"
      },
      "source": [
        "df = pd.read_csv(\"insurance.txt\",sep = \",\")\n",
        "df.insert(0,'0th_feature',1)"
      ],
      "execution_count": null,
      "outputs": []
    },
    {
      "cell_type": "markdown",
      "metadata": {
        "id": "dRwSTkSICVPQ"
      },
      "source": [
        "# New Section"
      ]
    },
    {
      "cell_type": "markdown",
      "metadata": {
        "id": "DvCKlcJMFqnA"
      },
      "source": [
        "DATA VISUALIZATION\n"
      ]
    },
    {
      "cell_type": "code",
      "metadata": {
        "id": "v3dQJEb1FvtE",
        "outputId": "57f785b4-2545-4332-ef1d-364f0e2dbbfc",
        "colab": {
          "base_uri": "https://localhost:8080/",
          "height": 587
        }
      },
      "source": [
        "colormap = ['red','blue','orange','yellow','green','purple','pink','black','brown','gold']\n",
        "plot1 = plt.figure(1)\n",
        "df['children'].value_counts().sort_index().plot.bar(color = colormap)\n",
        "plt.title('NUMBER OF CHILDREN VISUALIZATION',fontsize = 18,color = 'magenta')\n",
        "plt.xlabel('NUMBER OF CHILDREN',color = 'green',fontsize = 12)\n",
        "plt.ylabel('FREQUENCY',color = 'orange',fontsize = 12)\n",
        "plot2 = plt.figure(2)\n",
        "df['age'].value_counts()[:10].sort_index().plot.bar(color = colormap)\n",
        "plt.title('TOP 10 AGE GROUPS VISUALIZATION',fontsize = 18,color = 'magenta')\n",
        "plt.xlabel('AGE',color = 'green',fontsize = 12)\n",
        "plt.ylabel('FREQUENCY',color = 'orange',fontsize = 12)\n",
        "plt.show()"
      ],
      "execution_count": null,
      "outputs": [
        {
          "output_type": "display_data",
          "data": {
            "image/png": "[encoded data removed]",
            "text/plain": [
              "<Figure size 432x288 with 1 Axes>"
            ]
          },
          "metadata": {
            "tags": [],
            "needs_background": "light"
          }
        },
        {
          "output_type": "display_data",
          "data": {
            "image/png": "[encoded data removed]",
            "text/plain": [
              "<Figure size 432x288 with 1 Axes>"
            ]
          },
          "metadata": {
            "tags": [],
            "needs_background": "light"
          }
        }
      ]
    },
    {
      "cell_type": "markdown",
      "metadata": {
        "id": "BoNjHIMDKI81"
      },
      "source": [
        "PREPROCESSING"
      ]
    },
    {
      "cell_type": "code",
      "metadata": {
        "id": "Ujii0oV-dgix"
      },
      "source": [
        "def standardize(x,u,sigma):\n",
        "  return (x-u)/sigma"
      ],
      "execution_count": null,
      "outputs": []
    },
    {
      "cell_type": "code",
      "metadata": {
        "id": "en6Uar5hBaGp"
      },
      "source": [
        "def preprocessing(df):\n",
        "  mean_age = df.mean()['age']\n",
        "  age_variance =df.std()['age']\n",
        "  mean_bmi = df.mean()['bmi']\n",
        "  bmi_variance = df.std()['bmi']\n",
        "  mean_children = df.mean()['children']\n",
        "  children_variance = df.std()['children']\n",
        "  mean_charges = df.mean()['charges']\n",
        "  charges_variance = df.std()['charges']  \n",
        "  df['age'] = df['age'].apply(lambda x : standardize(x,mean_age,age_variance)) \n",
        "  df['bmi'] = df['bmi'].apply(lambda x : standardize(x,mean_bmi,bmi_variance)) \n",
        "  df['children'] = df['children'].apply(lambda x : standardize(x,mean_children,children_variance)) \n",
        "  df['charges']  = df['charges'].apply(lambda x : standardize(x,mean_charges,charges_variance)) \n",
        "  return df    \n"
      ],
      "execution_count": null,
      "outputs": []
    },
    {
      "cell_type": "markdown",
      "metadata": {
        "id": "-iDLn1Gbrirx"
      },
      "source": [
        "FUNCTIONS"
      ]
    },
    {
      "cell_type": "code",
      "metadata": {
        "id": "mZT2-eFfYh9v"
      },
      "source": [
        "def error_value(w,X,y):\n",
        "  return (np.sum((np.dot(X,w) - y)**2))/2"
      ],
      "execution_count": null,
      "outputs": []
    },
    {
      "cell_type": "code",
      "metadata": {
        "id": "BKUe3Lq3MiqJ"
      },
      "source": [
        "def train(X_train,y_train):\n",
        "  n = len(X_train)\n",
        "  a = np.dot(np.transpose(X_train),y_train)\n",
        "  b = np.dot(np.transpose(X_train),X_train)\n",
        "  return inv(X_train.transpose().dot(X_train)).dot(X_train.transpose()).dot(y_train)\n"
      ],
      "execution_count": null,
      "outputs": []
    },
    {
      "cell_type": "code",
      "metadata": {
        "id": "UpDis0leNtnN"
      },
      "source": [
        "def predict(parameters,X_test):\n",
        "  return np.dot(X_test,parameters)"
      ],
      "execution_count": null,
      "outputs": []
    },
    {
      "cell_type": "code",
      "metadata": {
        "id": "ngjuvXHjX4rl"
      },
      "source": [
        "def RMSE(y_true,y_pred):\n",
        "  return np.sqrt(((y_true - y_pred) ** 2).mean())"
      ],
      "execution_count": null,
      "outputs": []
    },
    {
      "cell_type": "markdown",
      "metadata": {
        "id": "St5ciuwfWm9m"
      },
      "source": [
        "TRAINING AND TESTING PHASES"
      ]
    },
    {
      "cell_type": "code",
      "metadata": {
        "id": "BmRKOwsmBJ5t"
      },
      "source": [
        "train_errors = []\n",
        "train_sum_of_squares = []\n",
        "test_sum_of_squares = []\n",
        "errors = []\n",
        "weights_list = []\n",
        "for k in range(20):\n",
        "  # TRAINING PHASE\n",
        "  df = df.sample(frac=1, random_state=k*100)\n",
        "  df = df.reset_index(drop = True)\n",
        "  df = preprocessing(df)\n",
        "  train_size = int(0.7*len(df))\n",
        "  X_train = np.array(df.drop(['charges'], axis = 1)[:train_size])\n",
        "  X_test = np.array(df.drop(['charges'], axis = 1)[train_size:])\n",
        "  y_train = np.array(df['charges'][:train_size])\n",
        "  y_test = np.array(df['charges'][train_size:])\n",
        "  weights = train(X_train,y_train)\n",
        "  weights_list.append(weights)\n",
        "\n",
        "  y_train_pred = predict(weights,X_train)\n",
        "  train_error = RMSE(y_train,y_train_pred)\n",
        "  train_errors.append(train_error)\n",
        "\n",
        "  train_sum_of_square_error = error_value(weights,X_train,y_train)\n",
        "  train_sum_of_squares.append(train_sum_of_square_error)\n",
        "  \n",
        "  # TESTING PHASE \n",
        "  y_pred = predict(weights,X_test)\n",
        "\n",
        "  test_sum_of_square_error = error_value(weights,X_test,y_test)\n",
        "  test_sum_of_squares.append(test_sum_of_square_error)\n",
        "\n",
        "  error = RMSE(y_test,y_pred)\n",
        "  errors.append(error)"
      ],
      "execution_count": null,
      "outputs": []
    },
    {
      "cell_type": "markdown",
      "metadata": {
        "id": "69V9TDASWx9A"
      },
      "source": [
        "TESTING PHASE\n"
      ]
    },
    {
      "cell_type": "markdown",
      "metadata": {
        "id": "iOU0FesYW7QZ"
      },
      "source": [
        "MODEL EVALUATION\n"
      ]
    },
    {
      "cell_type": "code",
      "metadata": {
        "id": "YQQYKVS3Awey",
        "outputId": "696ba0ef-c4b9-4a27-94c4-b3f5cead258c",
        "colab": {
          "base_uri": "https://localhost:8080/",
          "height": 105
        }
      },
      "source": [
        "errors = np.array(errors)\n",
        "print(\"For the training set, mean sum of square of errors = {} and variance square of errors = {}\".format(np.mean(train_sum_of_squares),np.var(train_sum_of_squares)))\n",
        "print(\"For the test set, mean sum of square of errors = {} and variance square of errors = {}\".format(np.mean(test_sum_of_squares),np.var(test_sum_of_squares)))\n",
        "print(\"For the training set, mean RMSE = {} and variance RMSE = {}\".format(np.mean(train_errors),np.var(train_errors)))\n",
        "print(\"For the test set, mean RMSE = {} and  variance RMSE = {}\".format(np.mean(errors),np.var(errors)))"
      ],
      "execution_count": null,
      "outputs": [
        {
          "output_type": "stream",
          "text": [
            "For the training set, mean sum of square of errors = 412.8898074847315 and variance square of errors = 143.8310853643415\n",
            "For the test set, mean sum of square of errors = 176.21891324394159 and variance square of errors = 144.96206737808077\n",
            "For the training set, mean RMSE = 0.9391778182726199 and variance RMSE = 0.0001882040508600869\n",
            "For the test set, mean RMSE = 0.9357961111353363 and  variance RMSE = 0.0009966495478696414\n"
          ],
          "name": "stdout"
        }
      ]
    },
    {
      "cell_type": "markdown",
      "metadata": {
        "id": "J_6DhXE60och"
      },
      "source": [
        "WEIGHT MATRICES OF THE 20 MODELS\n"
      ]
    },
    {
      "cell_type": "code",
      "metadata": {
        "id": "D_W6lZlg0NiZ",
        "outputId": "3c8f810e-33f0-4215-c669-c18b972b70e4",
        "colab": {
          "base_uri": "https://localhost:8080/",
          "height": 357
        }
      },
      "source": [
        "for index,i in enumerate(weights_list):\n",
        "  print(\"Weights of model {} are :\".format(index+1),i)"
      ],
      "execution_count": null,
      "outputs": [
        {
          "output_type": "stream",
          "text": [
            "Weights of model 1 are : [-0.01548248  0.28772759  0.16782284  0.05467951]\n",
            "Weights of model 2 are : [-0.01306509  0.27361388  0.16038129  0.0620708 ]\n",
            "Weights of model 3 are : [0.01279312 0.27788533 0.19452665 0.04083376]\n",
            "Weights of model 4 are : [-0.04401701  0.29865985  0.13852504  0.06654701]\n",
            "Weights of model 5 are : [-0.01273746  0.30957553  0.15000451  0.04864896]\n",
            "Weights of model 6 are : [0.01090912 0.26928012 0.17997873 0.06423713]\n",
            "Weights of model 7 are : [0.03017399 0.290573   0.20672774 0.06659119]\n",
            "Weights of model 8 are : [0.01614965 0.28910865 0.18915273 0.02545868]\n",
            "Weights of model 9 are : [-0.01168249  0.2856858   0.16295787  0.03640721]\n",
            "Weights of model 10 are : [0.00221134 0.26059678 0.17243315 0.03274891]\n",
            "Weights of model 11 are : [0.0029046  0.28269505 0.18077328 0.05350132]\n",
            "Weights of model 12 are : [0.03095922 0.29496258 0.19909846 0.06845833]\n",
            "Weights of model 13 are : [0.00628893 0.25650654 0.15415032 0.02032251]\n",
            "Weights of model 14 are : [-0.00989496  0.28864309  0.18547944  0.0604681 ]\n",
            "Weights of model 15 are : [0.01977969 0.2713647  0.19547495 0.04631541]\n",
            "Weights of model 16 are : [0.01791558 0.28448099 0.18892948 0.0667988 ]\n",
            "Weights of model 17 are : [0.00584611 0.25952261 0.17350074 0.05460775]\n",
            "Weights of model 18 are : [0.00263245 0.30135724 0.16619006 0.05248145]\n",
            "Weights of model 19 are : [0.00134722 0.2291949  0.15462741 0.04194191]\n",
            "Weights of model 20 are : [-0.02616455  0.28014111  0.12667103  0.07141934]\n"
          ],
          "name": "stdout"
        }
      ]
    }
  ]
}